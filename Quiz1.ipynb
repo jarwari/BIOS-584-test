{
 "cells": [
  {
   "cell_type": "code",
   "execution_count": 60,
   "id": "a4f44a8a-6e6e-4c5f-8122-da277a4ff124",
   "metadata": {},
   "outputs": [
    {
     "name": "stdout",
     "output_type": "stream",
     "text": [
      "Julia Arwari\n"
     ]
    }
   ],
   "source": [
    "print (\"Julia Arwari\")"
   ]
  },
  {
   "cell_type": "code",
   "execution_count": 70,
   "id": "b1c94eae-352d-4250-be45-8300966747b8",
   "metadata": {},
   "outputs": [
    {
     "name": "stdout",
     "output_type": "stream",
     "text": [
      "['cat 1', 'cat 1', 'cat 1', 'cat 2']\n"
     ]
    }
   ],
   "source": [
    "cats = [\"cat 1\", \"cat 1\", \"cat 1\"]\n",
    "cats.append(\"cat 2\")\n",
    "print(cats)"
   ]
  },
  {
   "cell_type": "code",
   "execution_count": 71,
   "id": "c5276666-6f17-4dac-ac1d-2dada19e3542",
   "metadata": {},
   "outputs": [
    {
     "name": "stdout",
     "output_type": "stream",
     "text": [
      "[]\n"
     ]
    }
   ],
   "source": [
    "cats = [\"cat 1\", \"cat 1\", \"cat 1\"]\n",
    "cats.clear()\n",
    "print(cats)"
   ]
  },
  {
   "cell_type": "code",
   "execution_count": 72,
   "id": "50afb755-8aa0-4f5b-8f95-7da6085706f7",
   "metadata": {},
   "outputs": [
    {
     "name": "stdout",
     "output_type": "stream",
     "text": [
      "['cat 1', 'cat 1', 'cat 1']\n"
     ]
    }
   ],
   "source": [
    "cats = [\"cat 1\", \"cat 1\", \"cat 1\"]\n",
    "cats.copy()\n",
    "print(cats)"
   ]
  },
  {
   "cell_type": "code",
   "execution_count": 75,
   "id": "75cdd5f3-661b-4208-89e0-4cc7dec1cf3e",
   "metadata": {},
   "outputs": [
    {
     "data": {
      "text/plain": [
       "2"
      ]
     },
     "execution_count": 75,
     "metadata": {},
     "output_type": "execute_result"
    }
   ],
   "source": [
    "cats2 = [\"cat 1\", \"cat 1\", \"cat 2\"]\n",
    "cats2.count(\"cat 1\")"
   ]
  },
  {
   "cell_type": "code",
   "execution_count": 76,
   "id": "63d7d702-8fee-40c5-9d27-994765bd1ea4",
   "metadata": {},
   "outputs": [
    {
     "data": {
      "text/plain": [
       "2"
      ]
     },
     "execution_count": 76,
     "metadata": {},
     "output_type": "execute_result"
    }
   ],
   "source": [
    "cats2.index(\"cat 2\")"
   ]
  },
  {
   "cell_type": "code",
   "execution_count": 77,
   "id": "5fbbbf3e-1130-4614-9247-3f7fa080dc49",
   "metadata": {},
   "outputs": [
    {
     "name": "stdout",
     "output_type": "stream",
     "text": [
      "['cat 1', 'cat 2', 'cat 1', 'cat 2']\n"
     ]
    }
   ],
   "source": [
    "cats2.insert(1, \"cat 2\")\n",
    "print(cats2)"
   ]
  },
  {
   "cell_type": "code",
   "execution_count": 80,
   "id": "8881a83b-bc7d-4f80-8ce5-7496ae8af2ac",
   "metadata": {},
   "outputs": [
    {
     "name": "stdout",
     "output_type": "stream",
     "text": [
      "['cat 1', 'cat 1']\n"
     ]
    }
   ],
   "source": [
    "cats2 = [\"cat 1\", \"cat 1\", \"cat 2\"]\n",
    "cats2.pop(2)\n",
    "print(cats2)"
   ]
  },
  {
   "cell_type": "code",
   "execution_count": 82,
   "id": "633280d2-9e98-40df-9281-9f5e41d2a409",
   "metadata": {},
   "outputs": [
    {
     "name": "stdout",
     "output_type": "stream",
     "text": [
      "['cat 1', 'cat 1']\n"
     ]
    }
   ],
   "source": [
    "cats2 = [\"cat 1\", \"cat 1\", \"cat 2\"]\n",
    "cats2.remove(\"cat 2\")\n",
    "print(cats2)"
   ]
  },
  {
   "cell_type": "code",
   "execution_count": 84,
   "id": "ef7ebd3f-433f-4601-94fe-5e78a9074ef7",
   "metadata": {},
   "outputs": [
    {
     "name": "stdout",
     "output_type": "stream",
     "text": [
      "['cat 2', 'cat 1', 'cat 1']\n"
     ]
    }
   ],
   "source": [
    "cats2 = [\"cat 1\", \"cat 1\", \"cat 2\"]\n",
    "cats2.reverse()\n",
    "print(cats2) #COMPLETE"
   ]
  },
  {
   "cell_type": "code",
   "execution_count": null,
   "id": "09c9e6f6-d476-47f9-82ee-1c6c86fb3931",
   "metadata": {},
   "outputs": [],
   "source": []
  }
 ],
 "metadata": {
  "kernelspec": {
   "display_name": "Python 3 (ipykernel)",
   "language": "python",
   "name": "python3"
  },
  "language_info": {
   "codemirror_mode": {
    "name": "ipython",
    "version": 3
   },
   "file_extension": ".py",
   "mimetype": "text/x-python",
   "name": "python",
   "nbconvert_exporter": "python",
   "pygments_lexer": "ipython3",
   "version": "3.13.7"
  }
 },
 "nbformat": 4,
 "nbformat_minor": 5
}
